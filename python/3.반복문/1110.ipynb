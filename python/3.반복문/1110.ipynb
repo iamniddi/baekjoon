{
 "cells": [
  {
   "cell_type": "code",
   "execution_count": 1,
   "id": "d700b59c",
   "metadata": {
    "scrolled": false
   },
   "outputs": [
    {
     "name": "stdout",
     "output_type": "stream",
     "text": [
      "5\n"
     ]
    }
   ],
   "source": [
    "N=int(input())"
   ]
  },
  {
   "cell_type": "code",
   "execution_count": 10,
   "id": "3e06341c",
   "metadata": {
    "scrolled": true
   },
   "outputs": [
    {
     "name": "stdout",
     "output_type": "stream",
     "text": [
      "20 10 35 30 7\n"
     ]
    }
   ],
   "source": [
    "lis=list(map(int, input().split()))"
   ]
  },
  {
   "cell_type": "code",
   "execution_count": 15,
   "id": "6c3cc375",
   "metadata": {},
   "outputs": [
    {
     "name": "stdout",
     "output_type": "stream",
     "text": [
      "[7, 10, 20, 30, 35]\n",
      "7 35\n"
     ]
    }
   ],
   "source": [
    "smallNum=lis[0]\n",
    "bigNum=lis[0]\n",
    "for i in range(N):\n",
    "    if()\n",
    "print(lis[0], lis[N-1])"
   ]
  },
  {
   "cell_type": "code",
   "execution_count": null,
   "id": "277a47bd",
   "metadata": {},
   "outputs": [],
   "source": []
  },
  {
   "cell_type": "code",
   "execution_count": null,
   "id": "63a1b054",
   "metadata": {},
   "outputs": [],
   "source": []
  }
 ],
 "metadata": {
  "kernelspec": {
   "display_name": "Python 3 (ipykernel)",
   "language": "python",
   "name": "python3"
  },
  "language_info": {
   "codemirror_mode": {
    "name": "ipython",
    "version": 3
   },
   "file_extension": ".py",
   "mimetype": "text/x-python",
   "name": "python",
   "nbconvert_exporter": "python",
   "pygments_lexer": "ipython3",
   "version": "3.9.12"
  }
 },
 "nbformat": 4,
 "nbformat_minor": 5
}
