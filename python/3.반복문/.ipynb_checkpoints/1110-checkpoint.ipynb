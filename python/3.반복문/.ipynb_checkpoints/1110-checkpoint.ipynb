{
 "cells": [
  {
   "cell_type": "code",
   "execution_count": null,
   "id": "277a47bd",
   "metadata": {},
   "outputs": [],
   "source": [
    "sum=0\n",
    "save=0\n",
    "num=int(input())\n",
    "save = num\n",
    "a=0\n",
    "b=0\n",
    "c=0\n",
    "if(num<10):\n",
    "    a=0\n",
    "    b=num\n",
    "while True:\n",
    "    if(num<10):\n",
    "        a=0\n",
    "        b=num\n",
    "    else:\n",
    "        a=num//10\n",
    "        b=num%((num//10)*10)\n",
    "    \n",
    "    if(a+b<10):\n",
    "        c=a+b\n",
    "    else:\n",
    "        c=a+b-10\n",
    "    \n",
    "    num=b*10+c\n",
    "    sum+=1\n",
    "    if(save == num):\n",
    "        break\n",
    "print(sum)"
   ]
  }
 ],
 "metadata": {
  "kernelspec": {
   "display_name": "Python 3 (ipykernel)",
   "language": "python",
   "name": "python3"
  },
  "language_info": {
   "codemirror_mode": {
    "name": "ipython",
    "version": 3
   },
   "file_extension": ".py",
   "mimetype": "text/x-python",
   "name": "python",
   "nbconvert_exporter": "python",
   "pygments_lexer": "ipython3",
   "version": "3.9.12"
  }
 },
 "nbformat": 4,
 "nbformat_minor": 5
}
