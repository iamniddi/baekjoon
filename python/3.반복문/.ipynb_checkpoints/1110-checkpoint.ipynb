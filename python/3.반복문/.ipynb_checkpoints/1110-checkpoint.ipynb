{
 "cells": [
  {
   "cell_type": "code",
   "execution_count": 12,
   "id": "d97f771c",
   "metadata": {
    "scrolled": false
   },
   "outputs": [
    {
     "name": "stdout",
     "output_type": "stream",
     "text": [
      "71\n",
      "18\n",
      "89\n",
      "97\n",
      "76\n",
      "63\n",
      "39\n",
      "92\n",
      "21\n",
      "13\n",
      "34\n",
      "47\n",
      "71\n",
      "12\n"
     ]
    }
   ],
   "source": [
    "sum=0\n",
    "save=0\n",
    "num=int(input())\n",
    "save = num\n",
    "a=0\n",
    "b=0\n",
    "c=0\n",
    "if(num<10):\n",
    "    a=0\n",
    "    b=num\n",
    "while True:\n",
    "    if(num<10):\n",
    "        a=0\n",
    "        b=num\n",
    "    else:\n",
    "        a=num//10\n",
    "        b=num%((num//10)*10)\n",
    "    \n",
    "    if(a+b<10):\n",
    "        c=a+b\n",
    "    else:\n",
    "        c=a+b-10\n",
    "    \n",
    "    num=b*10+c\n",
    "    sum+=1\n",
    "    if(save == num):\n",
    "        break\n",
    "print(sum)"
   ]
  },
  {
   "cell_type": "code",
   "execution_count": null,
   "id": "6bce69c3",
   "metadata": {},
   "outputs": [],
   "source": []
  },
  {
   "cell_type": "code",
   "execution_count": null,
   "id": "c9c62018",
   "metadata": {},
   "outputs": [],
   "source": []
  }
 ],
 "metadata": {
  "kernelspec": {
   "display_name": "Python 3 (ipykernel)",
   "language": "python",
   "name": "python3"
  },
  "language_info": {
   "codemirror_mode": {
    "name": "ipython",
    "version": 3
   },
   "file_extension": ".py",
   "mimetype": "text/x-python",
   "name": "python",
   "nbconvert_exporter": "python",
   "pygments_lexer": "ipython3",
   "version": "3.9.12"
  }
 },
 "nbformat": 4,
 "nbformat_minor": 5
}
