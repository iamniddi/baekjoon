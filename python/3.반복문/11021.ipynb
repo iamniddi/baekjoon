{
 "cells": [
  {
   "cell_type": "code",
   "execution_count": null,
   "id": "82323122",
   "metadata": {
    "scrolled": true
   },
   "outputs": [],
   "source": [
    "T=int(input())"
   ]
  },
  {
   "cell_type": "code",
   "execution_count": null,
   "id": "ef5d0e4c",
   "metadata": {
    "scrolled": true
   },
   "outputs": [],
   "source": [
    "for i in range(1,T+1):\n",
    "    a,b=map(int, input().split())\n",
    "    print('Case #'+str(i)+':',a+b)"
   ]
  },
  {
   "cell_type": "code",
   "execution_count": null,
   "id": "2041d685",
   "metadata": {},
   "outputs": [],
   "source": []
  }
 ],
 "metadata": {
  "kernelspec": {
   "display_name": "Python 3 (ipykernel)",
   "language": "python",
   "name": "python3"
  },
  "language_info": {
   "codemirror_mode": {
    "name": "ipython",
    "version": 3
   },
   "file_extension": ".py",
   "mimetype": "text/x-python",
   "name": "python",
   "nbconvert_exporter": "python",
   "pygments_lexer": "ipython3",
   "version": "3.9.12"
  }
 },
 "nbformat": 4,
 "nbformat_minor": 5
}
