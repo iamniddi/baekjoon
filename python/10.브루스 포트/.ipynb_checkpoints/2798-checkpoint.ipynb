{
 "cells": [
  {
   "cell_type": "code",
   "execution_count": null,
   "id": "97ceed57",
   "metadata": {},
   "outputs": [],
   "source": [
    "N,M=map(int, input().split())\n",
    "card=list(map(int, input().split()))\n",
    "save=0\n",
    "for i in range(N):\n",
    "    for q in range(N):\n",
    "        for p in range(N):\n",
    "            if(i!=q and i!=p and q!=p):\n",
    "                sum=card[i]+card[p]+card[q]\n",
    "                if(M-sum>=0 and M-save>=M-sum):\n",
    "                    save=sum\n",
    "print(save)"
   ]
  }
 ],
 "metadata": {
  "kernelspec": {
   "display_name": "Python 3 (ipykernel)",
   "language": "python",
   "name": "python3"
  },
  "language_info": {
   "codemirror_mode": {
    "name": "ipython",
    "version": 3
   },
   "file_extension": ".py",
   "mimetype": "text/x-python",
   "name": "python",
   "nbconvert_exporter": "python",
   "pygments_lexer": "ipython3",
   "version": "3.9.12"
  }
 },
 "nbformat": 4,
 "nbformat_minor": 5
}
