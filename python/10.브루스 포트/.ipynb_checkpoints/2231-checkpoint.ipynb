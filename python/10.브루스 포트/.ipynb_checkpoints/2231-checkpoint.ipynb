{
 "cells": [
  {
   "cell_type": "code",
   "execution_count": null,
   "id": "04b61afc",
   "metadata": {},
   "outputs": [],
   "source": [
    "output = 0\n",
    "N = int(input())\n",
    "for i in range(1, N+1):        \n",
    "    sum=0\n",
    "    list1 = list(map(int, str(i)))  \n",
    "    for q in list1:\n",
    "        sum+=q\n",
    "    sum+=i\n",
    "    if(sum == N):                 \n",
    "        output = i                   \n",
    "        break\n",
    "\n",
    "print(output)"
   ]
  }
 ],
 "metadata": {
  "kernelspec": {
   "display_name": "Python 3 (ipykernel)",
   "language": "python",
   "name": "python3"
  },
  "language_info": {
   "codemirror_mode": {
    "name": "ipython",
    "version": 3
   },
   "file_extension": ".py",
   "mimetype": "text/x-python",
   "name": "python",
   "nbconvert_exporter": "python",
   "pygments_lexer": "ipython3",
   "version": "3.9.12"
  }
 },
 "nbformat": 4,
 "nbformat_minor": 5
}
