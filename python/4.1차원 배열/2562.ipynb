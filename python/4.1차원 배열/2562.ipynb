{
 "cells": [
  {
   "cell_type": "code",
   "execution_count": 12,
   "id": "a7a7df82",
   "metadata": {
    "scrolled": true
   },
   "outputs": [
    {
     "name": "stdout",
     "output_type": "stream",
     "text": [
      "39\n",
      "40\n",
      "41\n",
      "42\n",
      "43\n",
      "44\n",
      "82\n",
      "83\n",
      "84\n",
      "85\n"
     ]
    }
   ],
   "source": [
    "lis=[]\n",
    "sum=0\n",
    "for i in range(10):\n",
    "    lis.append(int(input())%42)"
   ]
  },
  {
   "cell_type": "markdown",
   "id": "b8d1e26c",
   "metadata": {},
   "source": [
    "## "
   ]
  },
  {
   "cell_type": "code",
   "execution_count": 11,
   "id": "406c01b2",
   "metadata": {
    "scrolled": true
   },
   "outputs": [
    {
     "name": "stdout",
     "output_type": "stream",
     "text": [
      "5\n",
      "[1, -1, 2, 3, 4, 5, -1, -1, -1, -1]\n"
     ]
    }
   ],
   "source": [
    "for i in range(10):\n",
    "    for q in range(i+1, 10):\n",
    "        if(lis[i]==lis[q]):\n",
    "            lis[q]=-1\n",
    "for i in range(10):\n",
    "    if(lis[i]!=-1):\n",
    "        sum+=1\n",
    "print(sum)\n",
    "print(lis)"
   ]
  },
  {
   "cell_type": "code",
   "execution_count": null,
   "id": "656f50cc",
   "metadata": {},
   "outputs": [],
   "source": []
  }
 ],
 "metadata": {
  "kernelspec": {
   "display_name": "Python 3 (ipykernel)",
   "language": "python",
   "name": "python3"
  },
  "language_info": {
   "codemirror_mode": {
    "name": "ipython",
    "version": 3
   },
   "file_extension": ".py",
   "mimetype": "text/x-python",
   "name": "python",
   "nbconvert_exporter": "python",
   "pygments_lexer": "ipython3",
   "version": "3.9.12"
  }
 },
 "nbformat": 4,
 "nbformat_minor": 5
}
