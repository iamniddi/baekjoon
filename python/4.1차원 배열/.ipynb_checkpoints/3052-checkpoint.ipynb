{
 "cells": [
  {
   "cell_type": "code",
   "execution_count": null,
   "id": "1e248b59",
   "metadata": {
    "scrolled": true
   },
   "outputs": [],
   "source": [
    "lis=[]\n",
    "sum=0\n",
    "for i in range(10):\n",
    "    lis.append(int(input())%42)\n",
    "for i in range(10):\n",
    "    for q in range(i+1, 10):\n",
    "        if(lis[i]==lis[q]):\n",
    "            lis[q]=-1\n",
    "for i in range(10):\n",
    "    if(lis[i]!=-1):\n",
    "        sum+=1\n",
    "print(sum)"
   ]
  },
  {
   "cell_type": "markdown",
   "id": "81d58edc",
   "metadata": {},
   "source": [
    "## "
   ]
  }
 ],
 "metadata": {
  "kernelspec": {
   "display_name": "Python 3 (ipykernel)",
   "language": "python",
   "name": "python3"
  },
  "language_info": {
   "codemirror_mode": {
    "name": "ipython",
    "version": 3
   },
   "file_extension": ".py",
   "mimetype": "text/x-python",
   "name": "python",
   "nbconvert_exporter": "python",
   "pygments_lexer": "ipython3",
   "version": "3.9.12"
  }
 },
 "nbformat": 4,
 "nbformat_minor": 5
}
