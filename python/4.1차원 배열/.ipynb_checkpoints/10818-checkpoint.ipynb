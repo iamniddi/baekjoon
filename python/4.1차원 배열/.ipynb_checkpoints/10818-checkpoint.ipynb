{
 "cells": [
  {
   "cell_type": "code",
   "execution_count": null,
   "id": "3b98f06b",
   "metadata": {
    "scrolled": false
   },
   "outputs": [],
   "source": [
    "N=int(input())\n",
    "lis=list(map(int, input().split()))\n",
    "smallNum=lis[0]\n",
    "bigNum=lis[0]\n",
    "for i in range(1,N):\n",
    "    if(lis[i]<smallNum):\n",
    "        smallNum=lis[i]\n",
    "    if(lis[i]>bigNum):\n",
    "        bigNum=lis[i]\n",
    "print(smallNum, bigNum)"
   ]
  }
 ],
 "metadata": {
  "kernelspec": {
   "display_name": "Python 3 (ipykernel)",
   "language": "python",
   "name": "python3"
  },
  "language_info": {
   "codemirror_mode": {
    "name": "ipython",
    "version": 3
   },
   "file_extension": ".py",
   "mimetype": "text/x-python",
   "name": "python",
   "nbconvert_exporter": "python",
   "pygments_lexer": "ipython3",
   "version": "3.9.12"
  }
 },
 "nbformat": 4,
 "nbformat_minor": 5
}
