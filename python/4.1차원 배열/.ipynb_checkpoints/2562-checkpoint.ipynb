{
 "cells": [
  {
   "cell_type": "code",
   "execution_count": null,
   "id": "a7a7df82",
   "metadata": {
    "scrolled": true
   },
   "outputs": [],
   "source": [
    "bigNum=0\n",
    "index=0\n",
    "for i in range(9):\n",
    "    N=int(input())\n",
    "    if(N>bigNum):\n",
    "        bigNum=N\n",
    "        index=i+1\n",
    "print(bigNum)\n",
    "print(index)"
   ]
  },
  {
   "cell_type": "markdown",
   "id": "b8d1e26c",
   "metadata": {},
   "source": [
    "## "
   ]
  }
 ],
 "metadata": {
  "kernelspec": {
   "display_name": "Python 3 (ipykernel)",
   "language": "python",
   "name": "python3"
  },
  "language_info": {
   "codemirror_mode": {
    "name": "ipython",
    "version": 3
   },
   "file_extension": ".py",
   "mimetype": "text/x-python",
   "name": "python",
   "nbconvert_exporter": "python",
   "pygments_lexer": "ipython3",
   "version": "3.9.12"
  }
 },
 "nbformat": 4,
 "nbformat_minor": 5
}
