{
 "cells": [
  {
   "cell_type": "code",
   "execution_count": 17,
   "id": "9103a19b",
   "metadata": {
    "scrolled": true
   },
   "outputs": [
    {
     "name": "stdout",
     "output_type": "stream",
     "text": [
      "3\n",
      "29\n",
      "38\n",
      "12\n",
      "57\n",
      "74\n",
      "40\n",
      "85\n",
      "61\n",
      "85\n",
      "7\n"
     ]
    }
   ],
   "source": [
    "bigNum=0\n",
    "index=0\n",
    "for i in range(9):\n",
    "    N=int(input())\n",
    "    if(N>bigNum):\n",
    "        bigNum=N\n",
    "        index=i+1\n",
    "print(bigNum)\n",
    "print(index)"
   ]
  },
  {
   "cell_type": "code",
   "execution_count": null,
   "id": "2893fa99",
   "metadata": {},
   "outputs": [],
   "source": []
  },
  {
   "cell_type": "code",
   "execution_count": null,
   "id": "f9f048e8",
   "metadata": {},
   "outputs": [],
   "source": []
  }
 ],
 "metadata": {
  "kernelspec": {
   "display_name": "Python 3 (ipykernel)",
   "language": "python",
   "name": "python3"
  },
  "language_info": {
   "codemirror_mode": {
    "name": "ipython",
    "version": 3
   },
   "file_extension": ".py",
   "mimetype": "text/x-python",
   "name": "python",
   "nbconvert_exporter": "python",
   "pygments_lexer": "ipython3",
   "version": "3.9.12"
  }
 },
 "nbformat": 4,
 "nbformat_minor": 5
}
