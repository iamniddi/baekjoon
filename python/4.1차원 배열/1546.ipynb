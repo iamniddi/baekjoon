{
 "cells": [
  {
   "cell_type": "code",
   "execution_count": null,
   "id": "cf4e3dbb",
   "metadata": {},
   "outputs": [],
   "source": [
    "N=int(input())\n",
    "list0=list(map(int, input().split()))\n",
    "bigNum=0\n",
    "sum=0\n",
    "for i in range(N):\n",
    "    if(list0[i]>bigNum):\n",
    "        bigNum=list0[i]\n",
    "for i in range(N):\n",
    "    list0[i]=list0[i]/bigNum*100\n",
    "for i in range(N):\n",
    "    sum+=list0[i]\n",
    "print(sum/N)"
   ]
  }
 ],
 "metadata": {
  "kernelspec": {
   "display_name": "Python 3 (ipykernel)",
   "language": "python",
   "name": "python3"
  },
  "language_info": {
   "codemirror_mode": {
    "name": "ipython",
    "version": 3
   },
   "file_extension": ".py",
   "mimetype": "text/x-python",
   "name": "python",
   "nbconvert_exporter": "python",
   "pygments_lexer": "ipython3",
   "version": "3.9.12"
  }
 },
 "nbformat": 4,
 "nbformat_minor": 5
}
