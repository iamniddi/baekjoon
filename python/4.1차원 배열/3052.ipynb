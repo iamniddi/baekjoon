{
 "cells": [
  {
   "cell_type": "code",
   "execution_count": null,
   "id": "1e248b59",
   "metadata": {
    "scrolled": true
   },
   "outputs": [],
   "source": [
    "T=int(input())\n",
    "for _ in range(T):\n",
    "    lis=[]\n",
    "    sum=0\n",
    "    lis=list(map(int, input().split()))\n",
    "    for i in range(lis[0]):\n",
    "        sum+=lis[i+1]\n",
    "    average=sum/lis[0]\n",
    "    sum=0\n",
    "    for i in range(1,lis[0]+1):\n",
    "        if(lis[i]>average):\n",
    "            sum+=1\n",
    "    print('%.3f'%(sum/lis[0]*100)+'%')"
   ]
  },
  {
   "cell_type": "markdown",
   "id": "81d58edc",
   "metadata": {},
   "source": [
    "## "
   ]
  }
 ],
 "metadata": {
  "kernelspec": {
   "display_name": "Python 3 (ipykernel)",
   "language": "python",
   "name": "python3"
  },
  "language_info": {
   "codemirror_mode": {
    "name": "ipython",
    "version": 3
   },
   "file_extension": ".py",
   "mimetype": "text/x-python",
   "name": "python",
   "nbconvert_exporter": "python",
   "pygments_lexer": "ipython3",
   "version": "3.9.12"
  }
 },
 "nbformat": 4,
 "nbformat_minor": 5
}
