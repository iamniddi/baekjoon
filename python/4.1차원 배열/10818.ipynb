{
 "cells": [
  {
   "cell_type": "code",
   "execution_count": 1,
   "id": "3b98f06b",
   "metadata": {
    "scrolled": false
   },
   "outputs": [
    {
     "name": "stdout",
     "output_type": "stream",
     "text": [
      "5\n"
     ]
    }
   ],
   "source": [
    "bigNum=0\n",
    "for i in range(9):\n",
    "    N=int(input())\n",
    "    if(N>bigNum):\n",
    "        bigNum=N"
   ]
  },
  {
   "cell_type": "code",
   "execution_count": 10,
   "id": "c9d56368",
   "metadata": {
    "scrolled": true
   },
   "outputs": [
    {
     "name": "stdout",
     "output_type": "stream",
     "text": [
      "20 10 35 30 7\n"
     ]
    }
   ],
   "source": [
    "lis=list(map(int, input().split()))"
   ]
  },
  {
   "cell_type": "code",
   "execution_count": 16,
   "id": "9b57034c",
   "metadata": {},
   "outputs": [
    {
     "name": "stdout",
     "output_type": "stream",
     "text": [
      "7 35\n"
     ]
    }
   ],
   "source": [
    "smallNum=lis[0]\n",
    "bigNum=lis[0]\n",
    "for i in range(1,N):\n",
    "    if(lis[i]<smallNum):\n",
    "        smallNum=lis[i]\n",
    "    if(lis[i]>bigNum):\n",
    "        bigNum=lis[i]\n",
    "print(smallNum, bigNum)"
   ]
  },
  {
   "cell_type": "code",
   "execution_count": null,
   "id": "adbc92e0",
   "metadata": {},
   "outputs": [],
   "source": []
  },
  {
   "cell_type": "code",
   "execution_count": null,
   "id": "94747fe9",
   "metadata": {},
   "outputs": [],
   "source": []
  }
 ],
 "metadata": {
  "kernelspec": {
   "display_name": "Python 3 (ipykernel)",
   "language": "python",
   "name": "python3"
  },
  "language_info": {
   "codemirror_mode": {
    "name": "ipython",
    "version": 3
   },
   "file_extension": ".py",
   "mimetype": "text/x-python",
   "name": "python",
   "nbconvert_exporter": "python",
   "pygments_lexer": "ipython3",
   "version": "3.9.12"
  }
 },
 "nbformat": 4,
 "nbformat_minor": 5
}
