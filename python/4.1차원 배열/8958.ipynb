{
 "cells": [
  {
   "cell_type": "code",
   "execution_count": null,
   "id": "a001bc86",
   "metadata": {},
   "outputs": [
    {
     "name": "stdout",
     "output_type": "stream",
     "text": [
      "5\n",
      "OOXXOXXOOO\n",
      "0 1\n",
      "1 2\n",
      "4 1\n",
      "7 1\n",
      "8 2\n",
      "10\n",
      "OOXXOOXXOO\n",
      "0 1\n",
      "1 2\n",
      "4 1\n",
      "5 2\n",
      "8 1\n",
      "9\n",
      "OXOXOXOXOXOXOX\n",
      "0 1\n",
      "2 1\n",
      "4 1\n",
      "6 1\n",
      "8 1\n",
      "10 1\n",
      "12 1\n",
      "7\n",
      "OOOOOOOOOO\n",
      "0 1\n",
      "1 2\n",
      "2 3\n",
      "3 4\n",
      "4 5\n",
      "5 6\n",
      "6 7\n",
      "7 8\n",
      "8 9\n",
      "55\n"
     ]
    }
   ],
   "source": [
    "N=int(input())\n",
    "for _ in range(N):\n",
    "    sum=0\n",
    "    score=0\n",
    "    arr=input()\n",
    "#     for i in range(len(arr)):\n",
    "#         print(arr[i])\n",
    "    for i in range(len(arr)-1):\n",
    "        if(arr[i]=='O' and arr[i+1]=='O'):\n",
    "            sum+=1\n",
    "            score+=sum\n",
    "            #print(i, sum)\n",
    "        elif(arr[i]=='O' and arr[i+1]=='X'):\n",
    "            sum+=1\n",
    "            #print(i, sum)\n",
    "            score+=sum\n",
    "            sum=0\n",
    "    if(arr[len(arr)-1]=='O'):\n",
    "        sum+=1\n",
    "        score+=sum\n",
    "    else:\n",
    "        score+=sum\n",
    "    print(score)"
   ]
  },
  {
   "cell_type": "code",
   "execution_count": null,
   "id": "6599b1ea",
   "metadata": {},
   "outputs": [],
   "source": []
  },
  {
   "cell_type": "code",
   "execution_count": null,
   "id": "c8eeeb6d",
   "metadata": {},
   "outputs": [],
   "source": []
  }
 ],
 "metadata": {
  "kernelspec": {
   "display_name": "Python 3 (ipykernel)",
   "language": "python",
   "name": "python3"
  },
  "language_info": {
   "codemirror_mode": {
    "name": "ipython",
    "version": 3
   },
   "file_extension": ".py",
   "mimetype": "text/x-python",
   "name": "python",
   "nbconvert_exporter": "python",
   "pygments_lexer": "ipython3",
   "version": "3.9.12"
  }
 },
 "nbformat": 4,
 "nbformat_minor": 5
}
