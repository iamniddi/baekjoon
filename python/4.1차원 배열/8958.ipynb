{
 "cells": [
  {
   "cell_type": "code",
   "execution_count": null,
   "id": "ff48109b",
   "metadata": {},
   "outputs": [],
   "source": [
    "N=int(input())\n",
    "for _ in range(N):\n",
    "    sum=0\n",
    "    score=0\n",
    "    arr=input()\n",
    "    for i in range(len(arr)-1):\n",
    "        if(arr[i]=='O' and arr[i+1]=='O'):\n",
    "            sum+=1\n",
    "            score+=sum\n",
    "        elif(arr[i]=='O' and arr[i+1]=='X'):\n",
    "            sum+=1\n",
    "            score+=sum\n",
    "            sum=0\n",
    "    if(arr[len(arr)-1]=='O'):\n",
    "        sum+=1\n",
    "        score+=sum\n",
    "    else:\n",
    "        score+=sum\n",
    "    print(score)"
   ]
  }
 ],
 "metadata": {
  "kernelspec": {
   "display_name": "Python 3 (ipykernel)",
   "language": "python",
   "name": "python3"
  },
  "language_info": {
   "codemirror_mode": {
    "name": "ipython",
    "version": 3
   },
   "file_extension": ".py",
   "mimetype": "text/x-python",
   "name": "python",
   "nbconvert_exporter": "python",
   "pygments_lexer": "ipython3",
   "version": "3.9.12"
  }
 },
 "nbformat": 4,
 "nbformat_minor": 5
}
