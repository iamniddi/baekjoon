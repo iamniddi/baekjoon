{
 "cells": [
  {
   "cell_type": "code",
   "execution_count": null,
   "id": "5b275964",
   "metadata": {},
   "outputs": [],
   "source": [
    "year=int(input())"
   ]
  },
  {
   "cell_type": "code",
   "execution_count": null,
   "id": "e197e765",
   "metadata": {},
   "outputs": [],
   "source": [
    "if(year%4==0 and year%100 !=0 or year ):"
   ]
  }
 ],
 "metadata": {
  "kernelspec": {
   "display_name": "Python 3 (ipykernel)",
   "language": "python",
   "name": "python3"
  },
  "language_info": {
   "codemirror_mode": {
    "name": "ipython",
    "version": 3
   },
   "file_extension": ".py",
   "mimetype": "text/x-python",
   "name": "python",
   "nbconvert_exporter": "python",
   "pygments_lexer": "ipython3",
   "version": "3.9.12"
  }
 },
 "nbformat": 4,
 "nbformat_minor": 5
}
