{
 "cells": [
  {
   "cell_type": "code",
   "execution_count": null,
   "id": "7a604cf9",
   "metadata": {
    "scrolled": false
   },
   "outputs": [],
   "source": [
    "H, M=map(int, input().split())"
   ]
  },
  {
   "cell_type": "code",
   "execution_count": null,
   "id": "bb756ec9",
   "metadata": {
    "scrolled": true
   },
   "outputs": [],
   "source": [
    "if(M>=45):\n",
    "    print(H, M-45)\n",
    "elif(H > 0 and 45>M):\n",
    "    print(H-1, 60-M)\n",
    "else:\n",
    "    print('23', 60-M)"
   ]
  },
  {
   "cell_type": "code",
   "execution_count": null,
   "id": "99e27425",
   "metadata": {},
   "outputs": [],
   "source": []
  }
 ],
 "metadata": {
  "kernelspec": {
   "display_name": "Python 3 (ipykernel)",
   "language": "python",
   "name": "python3"
  },
  "language_info": {
   "codemirror_mode": {
    "name": "ipython",
    "version": 3
   },
   "file_extension": ".py",
   "mimetype": "text/x-python",
   "name": "python",
   "nbconvert_exporter": "python",
   "pygments_lexer": "ipython3",
   "version": "3.9.12"
  }
 },
 "nbformat": 4,
 "nbformat_minor": 5
}
