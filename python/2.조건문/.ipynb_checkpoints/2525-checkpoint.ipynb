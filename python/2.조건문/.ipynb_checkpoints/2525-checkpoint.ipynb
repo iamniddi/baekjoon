{
 "cells": [
  {
   "cell_type": "code",
   "execution_count": 5,
   "id": "9e831be9",
   "metadata": {
    "scrolled": false
   },
   "outputs": [
    {
     "name": "stdout",
     "output_type": "stream",
     "text": [
      "23 48\n",
      "25\n"
     ]
    }
   ],
   "source": [
    "H, M=map(int, input().split())\n",
    "time = int(input())"
   ]
  },
  {
   "cell_type": "code",
   "execution_count": 7,
   "id": "5cb7ad45",
   "metadata": {
    "scrolled": true
   },
   "outputs": [],
   "source": [
    "a= time//60\n",
    "b= time%60"
   ]
  },
  {
   "cell_type": "code",
   "execution_count": 8,
   "id": "e5e3132e",
   "metadata": {},
   "outputs": [],
   "source": [
    "if(M+b>59):\n",
    "    H+=1\n",
    "    M=M+b-60\n",
    "else:\n",
    "    M+=b\n",
    "if(H+a>23):\n",
    "    H=H+a-24\n",
    "else:\n",
    "    H+=a"
   ]
  },
  {
   "cell_type": "code",
   "execution_count": 9,
   "id": "c27cab7a",
   "metadata": {},
   "outputs": [
    {
     "name": "stdout",
     "output_type": "stream",
     "text": [
      "0 13\n"
     ]
    }
   ],
   "source": [
    "print(H,M)"
   ]
  },
  {
   "cell_type": "code",
   "execution_count": null,
   "id": "c10bae83",
   "metadata": {},
   "outputs": [],
   "source": []
  }
 ],
 "metadata": {
  "kernelspec": {
   "display_name": "Python 3 (ipykernel)",
   "language": "python",
   "name": "python3"
  },
  "language_info": {
   "codemirror_mode": {
    "name": "ipython",
    "version": 3
   },
   "file_extension": ".py",
   "mimetype": "text/x-python",
   "name": "python",
   "nbconvert_exporter": "python",
   "pygments_lexer": "ipython3",
   "version": "3.9.12"
  }
 },
 "nbformat": 4,
 "nbformat_minor": 5
}
