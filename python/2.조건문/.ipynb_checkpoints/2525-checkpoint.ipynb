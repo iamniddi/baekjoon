{
 "cells": [
  {
   "cell_type": "code",
   "execution_count": 8,
   "id": "3f5b3b88",
   "metadata": {},
   "outputs": [],
   "source": [
    "H, M=map(int, input().split())\n",
    "time = int(input())\n",
    "a= time//60\n",
    "b= time%60\n",
    "if(M+b>59):\n",
    "    H+=1\n",
    "    M=M+b-60\n",
    "else:\n",
    "    M+=b\n",
    "if(H+a>23):\n",
    "    H=H+a-24\n",
    "else:\n",
    "    H+=a\n",
    "print(H,M)"
   ]
  }
 ],
 "metadata": {
  "kernelspec": {
   "display_name": "Python 3 (ipykernel)",
   "language": "python",
   "name": "python3"
  },
  "language_info": {
   "codemirror_mode": {
    "name": "ipython",
    "version": 3
   },
   "file_extension": ".py",
   "mimetype": "text/x-python",
   "name": "python",
   "nbconvert_exporter": "python",
   "pygments_lexer": "ipython3",
   "version": "3.9.12"
  }
 },
 "nbformat": 4,
 "nbformat_minor": 5
}
