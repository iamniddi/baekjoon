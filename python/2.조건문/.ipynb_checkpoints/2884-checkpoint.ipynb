{
 "cells": [
  {
   "cell_type": "code",
   "execution_count": 25,
   "id": "1e1b1054",
   "metadata": {
    "scrolled": true
   },
   "outputs": [
    {
     "name": "stdout",
     "output_type": "stream",
     "text": [
      "23 48\n",
      "25\n"
     ]
    }
   ],
   "source": [
    "H, M=map(int, input().split())\n",
    "if(M>=45):\n",
    "    print(H, M-45)\n",
    "elif(H > 0 and 45>M):\n",
    "    print(H-1, 60+M-45)\n",
    "else:\n",
    "    print('23', 60+M-45)"
   ]
  }
 ],
 "metadata": {
  "kernelspec": {
   "display_name": "Python 3 (ipykernel)",
   "language": "python",
   "name": "python3"
  },
  "language_info": {
   "codemirror_mode": {
    "name": "ipython",
    "version": 3
   },
   "file_extension": ".py",
   "mimetype": "text/x-python",
   "name": "python",
   "nbconvert_exporter": "python",
   "pygments_lexer": "ipython3",
   "version": "3.9.12"
  }
 },
 "nbformat": 4,
 "nbformat_minor": 5
}
