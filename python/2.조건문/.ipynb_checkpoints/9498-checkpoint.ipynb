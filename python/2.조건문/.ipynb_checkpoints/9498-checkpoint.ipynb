{
 "cells": [
  {
   "cell_type": "code",
   "execution_count": null,
   "id": "7452c857",
   "metadata": {},
   "outputs": [],
   "source": [
    "a=int(input())"
   ]
  },
  {
   "cell_type": "code",
   "execution_count": null,
   "id": "c10463dc",
   "metadata": {},
   "outputs": [],
   "source": [
    "if(a>=90):\n",
    "    print('A')\n",
    "elif(90>a and a>=80):\n",
    "    print('B')\n",
    "elif(80>a and a>=70):\n",
    "    print('C')\n",
    "elif(70>a and a>=60):\n",
    "    print('D')\n",
    "else:\n",
    "    print('F')"
   ]
  }
 ],
 "metadata": {
  "kernelspec": {
   "display_name": "Python 3 (ipykernel)",
   "language": "python",
   "name": "python3"
  },
  "language_info": {
   "codemirror_mode": {
    "name": "ipython",
    "version": 3
   },
   "file_extension": ".py",
   "mimetype": "text/x-python",
   "name": "python",
   "nbconvert_exporter": "python",
   "pygments_lexer": "ipython3",
   "version": "3.9.12"
  }
 },
 "nbformat": 4,
 "nbformat_minor": 5
}
