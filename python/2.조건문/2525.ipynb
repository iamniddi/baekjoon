{
 "cells": [
  {
   "cell_type": "code",
   "execution_count": 5,
   "id": "25a3fd10",
   "metadata": {
    "scrolled": false
   },
   "outputs": [
    {
     "name": "stdout",
     "output_type": "stream",
     "text": [
      "23 48\n",
      "25\n"
     ]
    }
   ],
   "source": [
    "a,b,c=map(int, input().split())\n",
    "money"
   ]
  },
  {
   "cell_type": "code",
   "execution_count": 8,
   "id": "3f5b3b88",
   "metadata": {},
   "outputs": [],
   "source": [
    "if(a==b==c):\n",
    "    money=10000+a*1000\n",
    "elif(a==b or a==c):\n",
    "    money=1000+a*100\n",
    "elif(b==c):\n",
    "    money=1000+b*100\n",
    "else:\n",
    "    if(a>b and a>c):\n",
    "        money = a*100\n",
    "    elif(b>a and b>c):\n",
    "        money = b*100"
   ]
  },
  {
   "cell_type": "code",
   "execution_count": 9,
   "id": "d8b0805a",
   "metadata": {},
   "outputs": [
    {
     "name": "stdout",
     "output_type": "stream",
     "text": [
      "0 13\n"
     ]
    }
   ],
   "source": [
    "print(H,M)"
   ]
  },
  {
   "cell_type": "code",
   "execution_count": null,
   "id": "6acdab3f",
   "metadata": {},
   "outputs": [],
   "source": []
  }
 ],
 "metadata": {
  "kernelspec": {
   "display_name": "Python 3 (ipykernel)",
   "language": "python",
   "name": "python3"
  },
  "language_info": {
   "codemirror_mode": {
    "name": "ipython",
    "version": 3
   },
   "file_extension": ".py",
   "mimetype": "text/x-python",
   "name": "python",
   "nbconvert_exporter": "python",
   "pygments_lexer": "ipython3",
   "version": "3.9.12"
  }
 },
 "nbformat": 4,
 "nbformat_minor": 5
}
