{
 "cells": [
  {
   "cell_type": "code",
   "execution_count": 3,
   "id": "6fa9e832",
   "metadata": {
    "scrolled": false
   },
   "outputs": [
    {
     "name": "stdout",
     "output_type": "stream",
     "text": [
      "6 2 5\n"
     ]
    }
   ],
   "source": [
    "a,b,c=map(int, input().split())\n",
    "money=0"
   ]
  },
  {
   "cell_type": "code",
   "execution_count": 4,
   "id": "088a205b",
   "metadata": {},
   "outputs": [
    {
     "name": "stdout",
     "output_type": "stream",
     "text": [
      "600\n"
     ]
    }
   ],
   "source": [
    "if(a==b==c):\n",
    "    money=10000+a*1000\n",
    "elif(a==b or a==c):\n",
    "    money=1000+a*100\n",
    "elif(b==c):\n",
    "    money=1000+b*100\n",
    "else:\n",
    "    if(a>b and a>c):\n",
    "        money = a*100\n",
    "    elif(b>a and b>c):\n",
    "        money = b*100\n",
    "    else:\n",
    "        money = c*100\n",
    "print(money)"
   ]
  },
  {
   "cell_type": "code",
   "execution_count": null,
   "id": "51d8d4a9",
   "metadata": {},
   "outputs": [],
   "source": []
  }
 ],
 "metadata": {
  "kernelspec": {
   "display_name": "Python 3 (ipykernel)",
   "language": "python",
   "name": "python3"
  },
  "language_info": {
   "codemirror_mode": {
    "name": "ipython",
    "version": 3
   },
   "file_extension": ".py",
   "mimetype": "text/x-python",
   "name": "python",
   "nbconvert_exporter": "python",
   "pygments_lexer": "ipython3",
   "version": "3.9.12"
  }
 },
 "nbformat": 4,
 "nbformat_minor": 5
}
