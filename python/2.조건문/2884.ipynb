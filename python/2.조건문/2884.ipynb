{
 "cells": [
  {
   "cell_type": "code",
   "execution_count": 25,
   "id": "1e1b1054",
   "metadata": {
    "scrolled": true
   },
   "outputs": [
    {
     "name": "stdout",
     "output_type": "stream",
     "text": [
      "23 48\n",
      "25\n"
     ]
    }
   ],
   "source": [
    "H, M=map(int, input().split())\n",
    "time = int(input())"
   ]
  },
  {
   "cell_type": "code",
   "execution_count": 26,
   "id": "5111a60e",
   "metadata": {
    "scrolled": true
   },
   "outputs": [],
   "source": [
    "a= time//60\n",
    "b= time%60"
   ]
  },
  {
   "cell_type": "code",
   "execution_count": 29,
   "id": "cc8e316d",
   "metadata": {},
   "outputs": [],
   "source": [
    "if(M+b>59):\n",
    "    H+=1\n",
    "    M=M+b-60\n",
    "else:\n",
    "    M+=b\n",
    "if(H+a>23):\n",
    "    H=H+a-24\n",
    "else:\n",
    "    H+=a"
   ]
  },
  {
   "cell_type": "code",
   "execution_count": 30,
   "id": "148ec0a3",
   "metadata": {},
   "outputs": [
    {
     "name": "stdout",
     "output_type": "stream",
     "text": [
      "0 38\n"
     ]
    }
   ],
   "source": [
    "print(H,M)"
   ]
  },
  {
   "cell_type": "code",
   "execution_count": null,
   "id": "01e96906",
   "metadata": {},
   "outputs": [],
   "source": []
  }
 ],
 "metadata": {
  "kernelspec": {
   "display_name": "Python 3 (ipykernel)",
   "language": "python",
   "name": "python3"
  },
  "language_info": {
   "codemirror_mode": {
    "name": "ipython",
    "version": 3
   },
   "file_extension": ".py",
   "mimetype": "text/x-python",
   "name": "python",
   "nbconvert_exporter": "python",
   "pygments_lexer": "ipython3",
   "version": "3.9.12"
  }
 },
 "nbformat": 4,
 "nbformat_minor": 5
}
