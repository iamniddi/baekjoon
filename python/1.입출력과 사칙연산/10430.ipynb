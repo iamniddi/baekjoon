{
 "cells": [
  {
   "cell_type": "code",
   "execution_count": 82,
   "id": "7045d712",
   "metadata": {
    "scrolled": false
   },
   "outputs": [
    {
     "name": "stdout",
     "output_type": "stream",
     "text": [
      "111 333\n"
     ]
    }
   ],
   "source": [
    "a,b = map(int, input().split())"
   ]
  },
  {
   "cell_type": "code",
   "execution_count": 83,
   "id": "9b19428e",
   "metadata": {
    "scrolled": false
   },
   "outputs": [
    {
     "name": "stdout",
     "output_type": "stream",
     "text": [
      "333\n",
      "333\n",
      "333\n",
      "36963\n"
     ]
    }
   ],
   "source": [
    "five = b//100\n",
    "four = (b-five*100)//10\n",
    "three = (b-b//100*100)- (b-b//100*100)//10*10\n",
    "print(a * three)\n",
    "print(a * four)\n",
    "print(a * five)\n",
    "print(a * three+a * four*10+ a * five*100)"
   ]
  },
  {
   "cell_type": "code",
   "execution_count": null,
   "id": "e1e50e09",
   "metadata": {},
   "outputs": [],
   "source": []
  },
  {
   "cell_type": "code",
   "execution_count": null,
   "id": "4ff9b2bc",
   "metadata": {},
   "outputs": [],
   "source": []
  }
 ],
 "metadata": {
  "kernelspec": {
   "display_name": "Python 3 (ipykernel)",
   "language": "python",
   "name": "python3"
  },
  "language_info": {
   "codemirror_mode": {
    "name": "ipython",
    "version": 3
   },
   "file_extension": ".py",
   "mimetype": "text/x-python",
   "name": "python",
   "nbconvert_exporter": "python",
   "pygments_lexer": "ipython3",
   "version": "3.9.12"
  }
 },
 "nbformat": 4,
 "nbformat_minor": 5
}
