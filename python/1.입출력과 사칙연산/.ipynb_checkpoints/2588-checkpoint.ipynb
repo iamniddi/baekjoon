{
 "cells": [
  {
   "cell_type": "code",
   "execution_count": 1,
   "id": "f903f104",
   "metadata": {},
   "outputs": [
    {
     "name": "stdout",
     "output_type": "stream",
     "text": [
      "472\n",
      "385\n"
     ]
    }
   ],
   "source": [
    "a= int(input())\n",
    "b= int(input())"
   ]
  },
  {
   "cell_type": "code",
   "execution_count": 2,
   "id": "a0d2b7ef",
   "metadata": {
    "scrolled": false
   },
   "outputs": [
    {
     "name": "stdout",
     "output_type": "stream",
     "text": [
      "2360\n",
      "3776\n",
      "1416\n",
      "181720\n"
     ]
    }
   ],
   "source": [
    "five = b//100\n",
    "four = (b-five*100)//10\n",
    "three = (b-b//100*100)- (b-b//100*100)//10*10\n",
    "print(a * three)\n",
    "print(a * four)\n",
    "print(a * five)\n",
    "print(a * three+a * four*10+ a * five*100)"
   ]
  },
  {
   "cell_type": "code",
   "execution_count": null,
   "id": "082ea3ab",
   "metadata": {},
   "outputs": [],
   "source": []
  }
 ],
 "metadata": {
  "kernelspec": {
   "display_name": "Python 3 (ipykernel)",
   "language": "python",
   "name": "python3"
  },
  "language_info": {
   "codemirror_mode": {
    "name": "ipython",
    "version": 3
   },
   "file_extension": ".py",
   "mimetype": "text/x-python",
   "name": "python",
   "nbconvert_exporter": "python",
   "pygments_lexer": "ipython3",
   "version": "3.9.12"
  }
 },
 "nbformat": 4,
 "nbformat_minor": 5
}
