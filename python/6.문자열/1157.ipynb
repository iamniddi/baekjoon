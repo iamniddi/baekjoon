{
 "cells": [
  {
   "cell_type": "code",
   "execution_count": 21,
   "id": "3e8248f4",
   "metadata": {
    "scrolled": true
   },
   "outputs": [
    {
     "name": "stdout",
     "output_type": "stream",
     "text": [
      "zZzZZasrrts\n",
      "Z\n"
     ]
    }
   ],
   "source": [
    "alphabet = [['a',0],['b',0],['c',0],['d',0],['e',0],['f',0],['g',0],['h',0],['i',0],['j',0],['k',0],['l',0],['m',0],['n',0],['o',0],['p',0],['q',0],['r',0],['s',0],['t',0],['u',0],['v',0],['w',0],['x',0],['y',0],['z',0]]\n",
    "word = list(input())\n",
    "bigNum=0\n",
    "count=0\n",
    "save='a'\n",
    "for i in word:\n",
    "    if(122>=ord(i) and ord(i)>=97):\n",
    "        alphabet[ord(i)-97][1]+=1\n",
    "    else:\n",
    "        alphabet[ord(i)-65][1]+=1\n",
    "for i in range(len(alphabet)):\n",
    "    if(alphabet[i][1]>bigNum):\n",
    "        bigNum=alphabet[i][1]\n",
    "        save=alphabet[i][0]\n",
    "for i in range(len(alphabet)):\n",
    "    if(alphabet[i][1]==bigNum):\n",
    "        count+=1\n",
    "if(count==1):\n",
    "    print(chr(ord(save)-32))\n",
    "else:\n",
    "    print('?')"
   ]
  }
 ],
 "metadata": {
  "kernelspec": {
   "display_name": "Python 3 (ipykernel)",
   "language": "python",
   "name": "python3"
  },
  "language_info": {
   "codemirror_mode": {
    "name": "ipython",
    "version": 3
   },
   "file_extension": ".py",
   "mimetype": "text/x-python",
   "name": "python",
   "nbconvert_exporter": "python",
   "pygments_lexer": "ipython3",
   "version": "3.9.12"
  }
 },
 "nbformat": 4,
 "nbformat_minor": 5
}
