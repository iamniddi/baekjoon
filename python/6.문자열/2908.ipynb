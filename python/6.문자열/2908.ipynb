{
 "cells": [
  {
   "cell_type": "code",
   "execution_count": 15,
   "id": "a1556b3d",
   "metadata": {
    "scrolled": true
   },
   "outputs": [
    {
     "name": "stdout",
     "output_type": "stream",
     "text": [
      "221 223\n",
      "322\n"
     ]
    }
   ],
   "source": [
    "a,b=map(list,input().split())\n",
    "aR=int(a[0])+int(a[1])*10+int(a[2])*100\n",
    "bR=int(b[0])+int(b[1])*10+int(b[2])*100\n",
    "if(aR>bR):\n",
    "    print(aR)\n",
    "else:\n",
    "    print(bR)"
   ]
  },
  {
   "cell_type": "code",
   "execution_count": null,
   "id": "a4e69bf8",
   "metadata": {},
   "outputs": [],
   "source": []
  }
 ],
 "metadata": {
  "kernelspec": {
   "display_name": "Python 3 (ipykernel)",
   "language": "python",
   "name": "python3"
  },
  "language_info": {
   "codemirror_mode": {
    "name": "ipython",
    "version": 3
   },
   "file_extension": ".py",
   "mimetype": "text/x-python",
   "name": "python",
   "nbconvert_exporter": "python",
   "pygments_lexer": "ipython3",
   "version": "3.9.12"
  }
 },
 "nbformat": 4,
 "nbformat_minor": 5
}
