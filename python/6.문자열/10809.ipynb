{
 "cells": [
  {
   "cell_type": "code",
   "execution_count": 6,
   "id": "18170fda",
   "metadata": {},
   "outputs": [
    {
     "name": "stdout",
     "output_type": "stream",
     "text": [
      "baekjoon\n",
      "1 0 -1 -1 2 -1 -1 -1 -1 4 3 -1 -1 7 5 -1 -1 -1 -1 -1 -1 -1 -1 -1 -1 -1 "
     ]
    }
   ],
   "source": [
    "alphabet=['a','b','c','d','e','f','g','h','i','j','k','l','m','n','o','p','q','r','s','t','u','v','w','x','y','z']\n",
    "a=list(input())\n",
    "for i in range(len(a)):\n",
    "    for q in range(len(alphabet)):\n",
    "        if(alphabet[q]==a[i]):\n",
    "            alphabet[q]=i\n",
    "for q in alphabet:\n",
    "    if(type(q)!=str):\n",
    "        print(q, end=' ')\n",
    "    else:\n",
    "        print('-1',end=' ')"
   ]
  },
  {
   "cell_type": "code",
   "execution_count": null,
   "id": "f64d0a86",
   "metadata": {},
   "outputs": [],
   "source": []
  }
 ],
 "metadata": {
  "kernelspec": {
   "display_name": "Python 3 (ipykernel)",
   "language": "python",
   "name": "python3"
  },
  "language_info": {
   "codemirror_mode": {
    "name": "ipython",
    "version": 3
   },
   "file_extension": ".py",
   "mimetype": "text/x-python",
   "name": "python",
   "nbconvert_exporter": "python",
   "pygments_lexer": "ipython3",
   "version": "3.9.12"
  }
 },
 "nbformat": 4,
 "nbformat_minor": 5
}
