{
 "cells": [
  {
   "cell_type": "code",
   "execution_count": 52,
   "id": "dce09bbf",
   "metadata": {
    "scrolled": false
   },
   "outputs": [
    {
     "name": "stdout",
     "output_type": "stream",
     "text": [
      "110\n",
      "99\n"
     ]
    }
   ],
   "source": [
    "N=int(input())\n",
    "sum=0\n",
    "for i in range(1,N+1):\n",
    "    if(i<100):\n",
    "        sum+=1\n",
    "    elif(1000>i>=100 and (i%1000)//100-(i%100)//10==(i%100)//10-i%10):\n",
    "        sum+=1\n",
    "print(sum)\n"
   ]
  }
 ],
 "metadata": {
  "kernelspec": {
   "display_name": "Python 3 (ipykernel)",
   "language": "python",
   "name": "python3"
  },
  "language_info": {
   "codemirror_mode": {
    "name": "ipython",
    "version": 3
   },
   "file_extension": ".py",
   "mimetype": "text/x-python",
   "name": "python",
   "nbconvert_exporter": "python",
   "pygments_lexer": "ipython3",
   "version": "3.9.12"
  }
 },
 "nbformat": 4,
 "nbformat_minor": 5
}
