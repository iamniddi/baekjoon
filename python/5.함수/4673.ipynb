{
 "cells": [
  {
   "cell_type": "code",
   "execution_count": 50,
   "id": "878d3be2",
   "metadata": {
    "scrolled": false
   },
   "outputs": [
    {
     "name": "stdout",
     "output_type": "stream",
     "text": [
      "1\n",
      "1\n"
     ]
    }
   ],
   "source": [
    "N=int(input())\n",
    "sum=0\n",
    "for i in range(1,N+1):\n",
    "    if(i<100):\n",
    "        sum+=1\n",
    "    elif(1000>i>=100 and (i%1000)//100-(i%100)//10==(i%100)//10-i%10):\n",
    "        sum+=1\n",
    "print(sum)\n"
   ]
  },
  {
   "cell_type": "code",
   "execution_count": 49,
   "id": "089bd611",
   "metadata": {},
   "outputs": [
    {
     "name": "stdout",
     "output_type": "stream",
     "text": [
      "144\n"
     ]
    }
   ],
   "source": [
    "if(100>N):\n",
    "    print(N)\n",
    "             \n",
    "elif(N>=100):\n",
    "    sum=99\n",
    "    for a in range(1,10):\n",
    "        for b in range(10):\n",
    "            for c in range(10):\n",
    "                if(a-b==b-c):\n",
    "                    sum+=1\n",
    "                if(a*100+b*10+c==N):\n",
    "                    check=1\n",
    "                    break\n",
    "    \n",
    "print(sum)"
   ]
  },
  {
   "cell_type": "code",
   "execution_count": null,
   "id": "417aff31",
   "metadata": {},
   "outputs": [],
   "source": [
    "210\n"
   ]
  }
 ],
 "metadata": {
  "kernelspec": {
   "display_name": "Python 3 (ipykernel)",
   "language": "python",
   "name": "python3"
  },
  "language_info": {
   "codemirror_mode": {
    "name": "ipython",
    "version": 3
   },
   "file_extension": ".py",
   "mimetype": "text/x-python",
   "name": "python",
   "nbconvert_exporter": "python",
   "pygments_lexer": "ipython3",
   "version": "3.9.12"
  }
 },
 "nbformat": 4,
 "nbformat_minor": 5
}
